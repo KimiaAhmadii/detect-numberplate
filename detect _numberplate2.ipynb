{
 "cells": [
  {
   "cell_type": "code",
   "execution_count": 1,
   "metadata": {},
   "outputs": [
    {
     "name": "stderr",
     "output_type": "stream",
     "text": [
      "c:\\ProgramData\\Anaconda3\\lib\\site-packages\\scipy\\__init__.py:138: UserWarning: A NumPy version >=1.16.5 and <1.23.0 is required for this version of SciPy (detected version 1.24.4)\n",
      "  warnings.warn(f\"A NumPy version >={np_minversion} and <{np_maxversion} is required for this version of \"\n"
     ]
    }
   ],
   "source": [
    "import cv2\n",
    "import numpy as np\n",
    "import os\n",
    "from sklearn import linear_model\n",
    "from sklearn.model_selection import train_test_split\n",
    "from imutils import contours"
   ]
  },
  {
   "cell_type": "code",
   "execution_count": 2,
   "metadata": {},
   "outputs": [],
   "source": [
    "x= np.empty((0,256))\n",
    "y= np.array([]) \n",
    "for i in range(1,10):\n",
    "      files = os.listdir(str(i))\n",
    "      for filename in files :\n",
    "       \n",
    "       img1= cv2.imread (str(i) + '/' + filename)\n",
    "       _, img1= cv2.threshold (img1,127,255,cv2.THRESH_BINARY)\n",
    "       img2= cv2.resize(img1,(8,32))\n",
    "       img3 = cv2.cvtColor(img2, cv2.COLOR_BGR2GRAY)\n",
    "       img4=img3.flatten()\n",
    "       x=np.append(x,[img4],axis=0)\n",
    "       y=np.append (y,i)\n",
    "        \n",
    "\n"
   ]
  },
  {
   "cell_type": "code",
   "execution_count": 3,
   "metadata": {},
   "outputs": [
    {
     "name": "stderr",
     "output_type": "stream",
     "text": [
      "c:\\ProgramData\\Anaconda3\\lib\\site-packages\\sklearn\\linear_model\\_logistic.py:763: ConvergenceWarning: lbfgs failed to converge (status=1):\n",
      "STOP: TOTAL NO. of ITERATIONS REACHED LIMIT.\n",
      "\n",
      "Increase the number of iterations (max_iter) or scale the data as shown in:\n",
      "    https://scikit-learn.org/stable/modules/preprocessing.html\n",
      "Please also refer to the documentation for alternative solver options:\n",
      "    https://scikit-learn.org/stable/modules/linear_model.html#logistic-regression\n",
      "  n_iter_i = _check_optimize_result(\n"
     ]
    }
   ],
   "source": [
    "x_train, x_test , y_train , y_test = train_test_split (x , y ,test_size=0.2)\n",
    "model= linear_model.LogisticRegression()\n",
    "\n",
    "model.fit(x_train,y_train)\n",
    "out= model.predict(x_test)\n"
   ]
  },
  {
   "cell_type": "code",
   "execution_count": 7,
   "metadata": {},
   "outputs": [
    {
     "name": "stdout",
     "output_type": "stream",
     "text": [
      "[2.]\n",
      "[1.]\n",
      "[2.]\n",
      "[5.]\n",
      "[1.]\n",
      "[3.]\n",
      "[3.]\n",
      "[5.]\n",
      "[2.]\n",
      "[2.]\n",
      "[5.]\n",
      "[9.]\n",
      "[2.]\n",
      "[2.]\n",
      "[3.]\n",
      "[2.]\n",
      "[1.]\n",
      "[2.]\n",
      "[2.]\n",
      "[2.]\n"
     ]
    }
   ],
   "source": [
    "\n",
    "\n",
    "# Load image, grayscale, Gaussian blur, Canny edge detection\n",
    "image = cv2.imread(\"pelak.png\")\n",
    "_, image= cv2.threshold (image,1,255,cv2.THRESH_BINARY)\n",
    "original = image.copy()\n",
    "gray = cv2.cvtColor(image, cv2.COLOR_BGR2GRAY)\n",
    "blurred = cv2.GaussianBlur(gray, (3,3), 0)\n",
    "canny = cv2.Canny(blurred, 120, 255, 1)\n",
    "\n",
    "# Find contours and extract ROI\n",
    "ROI_number = 0\n",
    "cnts = cv2.findContours(canny, cv2.RETR_EXTERNAL, cv2.CHAIN_APPROX_SIMPLE)\n",
    "cnts = cnts[0] if len(cnts) == 2 else cnts[1]\n",
    "cnts, _ = contours.sort_contours(cnts, method=\"left-to-right\")\n",
    "for c in cnts:\n",
    "    x,y,w,h = cv2.boundingRect(c)\n",
    "    ROI = original[y:y+h, x:x+w]\n",
    "    cv2.rectangle(image, (x,y), (x+w,y+h),(36, 25, 100), 3)\n",
    "    cv2.imwrite('ROI_{}.png'.format(ROI_number), ROI)\n",
    "    ROI_number += 1\n",
    "    image1=image[y:y+h, x:x+w]\n",
    "    #print('Contours Detected: {}'.format(ROI_number))\n",
    "\n",
    "    x1= np.empty((0,256))\n",
    "    img2= cv2.resize(image1,(8,32))\n",
    "    img3 = cv2.cvtColor(img2, cv2.COLOR_BGR2GRAY)\n",
    "    img4=img3.flatten()\n",
    "    x1=np.append(x1,[img4],axis=0)\n",
    "      \n",
    "    out= model.predict(x1)\n",
    "    print(out)\n",
    "    cv2.imshow('image',image1)\n",
    "    cv2.waitKey(0)\n",
    "    cv2.destroyAllWindows()\n",
    "    #cv2.imshow(\"image\", image1) \n",
    "\n",
    "    #cv2.waitKey()"
   ]
  }
 ],
 "metadata": {
  "kernelspec": {
   "display_name": "base",
   "language": "python",
   "name": "python3"
  },
  "language_info": {
   "codemirror_mode": {
    "name": "ipython",
    "version": 3
   },
   "file_extension": ".py",
   "mimetype": "text/x-python",
   "name": "python",
   "nbconvert_exporter": "python",
   "pygments_lexer": "ipython3",
   "version": "3.8.8"
  }
 },
 "nbformat": 4,
 "nbformat_minor": 2
}
